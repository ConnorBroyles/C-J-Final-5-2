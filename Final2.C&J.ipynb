{
 "cells": [
  {
   "cell_type": "code",
   "execution_count": 2,
   "id": "34b57c01",
   "metadata": {},
   "outputs": [],
   "source": [
    "#importing libraries\n",
    "import numpy as np\n",
    "import pandas as pd\n",
    "import seaborn as sns\n",
    "import matplotlib.pyplot as plt\n",
    "from sklearn.impute import SimpleImputer\n",
    "from sklearn.model_selection import train_test_split\n",
    "from sklearn.tree import DecisionTreeRegressor\n",
    "from sklearn.tree import plot_tree\n",
    "from sklearn.svm import SVR"
   ]
  },
  {
   "cell_type": "code",
   "execution_count": 3,
   "id": "a5668a04",
   "metadata": {},
   "outputs": [],
   "source": [
    "ds=pd.read_csv('nba.games.stats.csv')"
   ]
  },
  {
   "cell_type": "code",
   "execution_count": 4,
   "id": "6d184eb0",
   "metadata": {},
   "outputs": [
    {
     "data": {
      "text/plain": [
       "Unnamed: 0                  0\n",
       "Team                        0\n",
       "Game                        0\n",
       "Date                        0\n",
       "Home                        0\n",
       "Opponent                    0\n",
       "WINorLOSS                   0\n",
       "TeamPoints                  0\n",
       "OpponentPoints              0\n",
       "FieldGoals                  0\n",
       "FieldGoalsAttempted         0\n",
       "FieldGoals.                 0\n",
       "X3PointShots                0\n",
       "X3PointShotsAttempted       0\n",
       "X3PointShots.               0\n",
       "FreeThrows                  0\n",
       "FreeThrowsAttempted         0\n",
       "FreeThrows.                 0\n",
       "OffRebounds                 0\n",
       "TotalRebounds               0\n",
       "Assists                     0\n",
       "Steals                      0\n",
       "Blocks                      0\n",
       "Turnovers                   0\n",
       "TotalFouls                  0\n",
       "Opp.FieldGoals              0\n",
       "Opp.FieldGoalsAttempted     0\n",
       "Opp.FieldGoals.             0\n",
       "Opp.3PointShots             0\n",
       "Opp.3PointShotsAttempted    0\n",
       "Opp.3PointShots.            0\n",
       "Opp.FreeThrows              0\n",
       "Opp.FreeThrowsAttempted     0\n",
       "Opp.FreeThrows.             0\n",
       "Opp.OffRebounds             0\n",
       "Opp.TotalRebounds           0\n",
       "Opp.Assists                 0\n",
       "Opp.Steals                  0\n",
       "Opp.Blocks                  0\n",
       "Opp.Turnovers               0\n",
       "Opp.TotalFouls              0\n",
       "dtype: int64"
      ]
     },
     "execution_count": 4,
     "metadata": {},
     "output_type": "execute_result"
    }
   ],
   "source": [
    "ds.isnull().sum()"
   ]
  },
  {
   "cell_type": "code",
   "execution_count": 5,
   "id": "17608b73",
   "metadata": {},
   "outputs": [
    {
     "data": {
      "text/plain": [
       "9840"
      ]
     },
     "execution_count": 5,
     "metadata": {},
     "output_type": "execute_result"
    }
   ],
   "source": [
    "len(ds)"
   ]
  },
  {
   "cell_type": "code",
   "execution_count": 6,
   "id": "9deebcda",
   "metadata": {},
   "outputs": [
    {
     "data": {
      "text/plain": [
       "403440"
      ]
     },
     "execution_count": 6,
     "metadata": {},
     "output_type": "execute_result"
    }
   ],
   "source": [
    "ds.size"
   ]
  },
  {
   "cell_type": "code",
   "execution_count": 7,
   "id": "3b38fd79",
   "metadata": {},
   "outputs": [
    {
     "data": {
      "text/html": [
       "<div>\n",
       "<style scoped>\n",
       "    .dataframe tbody tr th:only-of-type {\n",
       "        vertical-align: middle;\n",
       "    }\n",
       "\n",
       "    .dataframe tbody tr th {\n",
       "        vertical-align: top;\n",
       "    }\n",
       "\n",
       "    .dataframe thead th {\n",
       "        text-align: right;\n",
       "    }\n",
       "</style>\n",
       "<table border=\"1\" class=\"dataframe\">\n",
       "  <thead>\n",
       "    <tr style=\"text-align: right;\">\n",
       "      <th></th>\n",
       "      <th>Unnamed: 0</th>\n",
       "      <th>Team</th>\n",
       "      <th>Game</th>\n",
       "      <th>Date</th>\n",
       "      <th>Home</th>\n",
       "      <th>Opponent</th>\n",
       "      <th>WINorLOSS</th>\n",
       "      <th>TeamPoints</th>\n",
       "      <th>OpponentPoints</th>\n",
       "      <th>FieldGoals</th>\n",
       "      <th>...</th>\n",
       "      <th>Opp.FreeThrows</th>\n",
       "      <th>Opp.FreeThrowsAttempted</th>\n",
       "      <th>Opp.FreeThrows.</th>\n",
       "      <th>Opp.OffRebounds</th>\n",
       "      <th>Opp.TotalRebounds</th>\n",
       "      <th>Opp.Assists</th>\n",
       "      <th>Opp.Steals</th>\n",
       "      <th>Opp.Blocks</th>\n",
       "      <th>Opp.Turnovers</th>\n",
       "      <th>Opp.TotalFouls</th>\n",
       "    </tr>\n",
       "  </thead>\n",
       "  <tbody>\n",
       "    <tr>\n",
       "      <th>0</th>\n",
       "      <td>1</td>\n",
       "      <td>ATL</td>\n",
       "      <td>1</td>\n",
       "      <td>10/29/2014</td>\n",
       "      <td>Away</td>\n",
       "      <td>TOR</td>\n",
       "      <td>L</td>\n",
       "      <td>102</td>\n",
       "      <td>109</td>\n",
       "      <td>40</td>\n",
       "      <td>...</td>\n",
       "      <td>27</td>\n",
       "      <td>33</td>\n",
       "      <td>0.818</td>\n",
       "      <td>16</td>\n",
       "      <td>48</td>\n",
       "      <td>26</td>\n",
       "      <td>13</td>\n",
       "      <td>9</td>\n",
       "      <td>9</td>\n",
       "      <td>22</td>\n",
       "    </tr>\n",
       "    <tr>\n",
       "      <th>1</th>\n",
       "      <td>2</td>\n",
       "      <td>ATL</td>\n",
       "      <td>2</td>\n",
       "      <td>11/1/2014</td>\n",
       "      <td>Home</td>\n",
       "      <td>IND</td>\n",
       "      <td>W</td>\n",
       "      <td>102</td>\n",
       "      <td>92</td>\n",
       "      <td>35</td>\n",
       "      <td>...</td>\n",
       "      <td>18</td>\n",
       "      <td>21</td>\n",
       "      <td>0.857</td>\n",
       "      <td>11</td>\n",
       "      <td>44</td>\n",
       "      <td>25</td>\n",
       "      <td>5</td>\n",
       "      <td>5</td>\n",
       "      <td>18</td>\n",
       "      <td>26</td>\n",
       "    </tr>\n",
       "    <tr>\n",
       "      <th>2</th>\n",
       "      <td>3</td>\n",
       "      <td>ATL</td>\n",
       "      <td>3</td>\n",
       "      <td>11/5/2014</td>\n",
       "      <td>Away</td>\n",
       "      <td>SAS</td>\n",
       "      <td>L</td>\n",
       "      <td>92</td>\n",
       "      <td>94</td>\n",
       "      <td>38</td>\n",
       "      <td>...</td>\n",
       "      <td>27</td>\n",
       "      <td>38</td>\n",
       "      <td>0.711</td>\n",
       "      <td>11</td>\n",
       "      <td>50</td>\n",
       "      <td>25</td>\n",
       "      <td>7</td>\n",
       "      <td>9</td>\n",
       "      <td>19</td>\n",
       "      <td>15</td>\n",
       "    </tr>\n",
       "    <tr>\n",
       "      <th>3</th>\n",
       "      <td>4</td>\n",
       "      <td>ATL</td>\n",
       "      <td>4</td>\n",
       "      <td>11/7/2014</td>\n",
       "      <td>Away</td>\n",
       "      <td>CHO</td>\n",
       "      <td>L</td>\n",
       "      <td>119</td>\n",
       "      <td>122</td>\n",
       "      <td>43</td>\n",
       "      <td>...</td>\n",
       "      <td>20</td>\n",
       "      <td>27</td>\n",
       "      <td>0.741</td>\n",
       "      <td>11</td>\n",
       "      <td>51</td>\n",
       "      <td>31</td>\n",
       "      <td>6</td>\n",
       "      <td>7</td>\n",
       "      <td>19</td>\n",
       "      <td>30</td>\n",
       "    </tr>\n",
       "    <tr>\n",
       "      <th>4</th>\n",
       "      <td>5</td>\n",
       "      <td>ATL</td>\n",
       "      <td>5</td>\n",
       "      <td>11/8/2014</td>\n",
       "      <td>Home</td>\n",
       "      <td>NYK</td>\n",
       "      <td>W</td>\n",
       "      <td>103</td>\n",
       "      <td>96</td>\n",
       "      <td>33</td>\n",
       "      <td>...</td>\n",
       "      <td>8</td>\n",
       "      <td>11</td>\n",
       "      <td>0.727</td>\n",
       "      <td>13</td>\n",
       "      <td>44</td>\n",
       "      <td>26</td>\n",
       "      <td>2</td>\n",
       "      <td>6</td>\n",
       "      <td>15</td>\n",
       "      <td>29</td>\n",
       "    </tr>\n",
       "  </tbody>\n",
       "</table>\n",
       "<p>5 rows × 41 columns</p>\n",
       "</div>"
      ],
      "text/plain": [
       "   Unnamed: 0 Team  Game        Date  Home Opponent WINorLOSS  TeamPoints  \\\n",
       "0           1  ATL     1  10/29/2014  Away      TOR         L         102   \n",
       "1           2  ATL     2   11/1/2014  Home      IND         W         102   \n",
       "2           3  ATL     3   11/5/2014  Away      SAS         L          92   \n",
       "3           4  ATL     4   11/7/2014  Away      CHO         L         119   \n",
       "4           5  ATL     5   11/8/2014  Home      NYK         W         103   \n",
       "\n",
       "   OpponentPoints  FieldGoals  ...  Opp.FreeThrows  Opp.FreeThrowsAttempted  \\\n",
       "0             109          40  ...              27                       33   \n",
       "1              92          35  ...              18                       21   \n",
       "2              94          38  ...              27                       38   \n",
       "3             122          43  ...              20                       27   \n",
       "4              96          33  ...               8                       11   \n",
       "\n",
       "   Opp.FreeThrows.  Opp.OffRebounds  Opp.TotalRebounds  Opp.Assists  \\\n",
       "0            0.818               16                 48           26   \n",
       "1            0.857               11                 44           25   \n",
       "2            0.711               11                 50           25   \n",
       "3            0.741               11                 51           31   \n",
       "4            0.727               13                 44           26   \n",
       "\n",
       "   Opp.Steals  Opp.Blocks  Opp.Turnovers  Opp.TotalFouls  \n",
       "0          13           9              9              22  \n",
       "1           5           5             18              26  \n",
       "2           7           9             19              15  \n",
       "3           6           7             19              30  \n",
       "4           2           6             15              29  \n",
       "\n",
       "[5 rows x 41 columns]"
      ]
     },
     "execution_count": 7,
     "metadata": {},
     "output_type": "execute_result"
    }
   ],
   "source": [
    "ds.head()"
   ]
  },
  {
   "cell_type": "code",
   "execution_count": 8,
   "id": "d98646a2",
   "metadata": {},
   "outputs": [
    {
     "name": "stdout",
     "output_type": "stream",
     "text": [
      "<class 'pandas.core.frame.DataFrame'>\n",
      "RangeIndex: 9840 entries, 0 to 9839\n",
      "Data columns (total 41 columns):\n",
      " #   Column                    Non-Null Count  Dtype  \n",
      "---  ------                    --------------  -----  \n",
      " 0   Unnamed: 0                9840 non-null   int64  \n",
      " 1   Team                      9840 non-null   object \n",
      " 2   Game                      9840 non-null   int64  \n",
      " 3   Date                      9840 non-null   object \n",
      " 4   Home                      9840 non-null   object \n",
      " 5   Opponent                  9840 non-null   object \n",
      " 6   WINorLOSS                 9840 non-null   object \n",
      " 7   TeamPoints                9840 non-null   int64  \n",
      " 8   OpponentPoints            9840 non-null   int64  \n",
      " 9   FieldGoals                9840 non-null   int64  \n",
      " 10  FieldGoalsAttempted       9840 non-null   int64  \n",
      " 11  FieldGoals.               9840 non-null   float64\n",
      " 12  X3PointShots              9840 non-null   int64  \n",
      " 13  X3PointShotsAttempted     9840 non-null   int64  \n",
      " 14  X3PointShots.             9840 non-null   float64\n",
      " 15  FreeThrows                9840 non-null   int64  \n",
      " 16  FreeThrowsAttempted       9840 non-null   int64  \n",
      " 17  FreeThrows.               9840 non-null   float64\n",
      " 18  OffRebounds               9840 non-null   int64  \n",
      " 19  TotalRebounds             9840 non-null   int64  \n",
      " 20  Assists                   9840 non-null   int64  \n",
      " 21  Steals                    9840 non-null   int64  \n",
      " 22  Blocks                    9840 non-null   int64  \n",
      " 23  Turnovers                 9840 non-null   int64  \n",
      " 24  TotalFouls                9840 non-null   int64  \n",
      " 25  Opp.FieldGoals            9840 non-null   int64  \n",
      " 26  Opp.FieldGoalsAttempted   9840 non-null   int64  \n",
      " 27  Opp.FieldGoals.           9840 non-null   float64\n",
      " 28  Opp.3PointShots           9840 non-null   int64  \n",
      " 29  Opp.3PointShotsAttempted  9840 non-null   int64  \n",
      " 30  Opp.3PointShots.          9840 non-null   float64\n",
      " 31  Opp.FreeThrows            9840 non-null   int64  \n",
      " 32  Opp.FreeThrowsAttempted   9840 non-null   int64  \n",
      " 33  Opp.FreeThrows.           9840 non-null   float64\n",
      " 34  Opp.OffRebounds           9840 non-null   int64  \n",
      " 35  Opp.TotalRebounds         9840 non-null   int64  \n",
      " 36  Opp.Assists               9840 non-null   int64  \n",
      " 37  Opp.Steals                9840 non-null   int64  \n",
      " 38  Opp.Blocks                9840 non-null   int64  \n",
      " 39  Opp.Turnovers             9840 non-null   int64  \n",
      " 40  Opp.TotalFouls            9840 non-null   int64  \n",
      "dtypes: float64(6), int64(30), object(5)\n",
      "memory usage: 3.1+ MB\n"
     ]
    }
   ],
   "source": [
    "ds.info()"
   ]
  },
  {
   "cell_type": "code",
   "execution_count": 9,
   "id": "ff918ac9",
   "metadata": {},
   "outputs": [],
   "source": [
    "ds['Opp.totalscore']=ds[['OpponentPoints','Opp.FieldGoals','Opp.3PointShots','Opp.FreeThrows',\n",
    "                           'Opp.TotalRebounds','Opp.Assists','Opp.Blocks','Turnovers','TotalFouls']].sum(axis=1)"
   ]
  },
  {
   "cell_type": "code",
   "execution_count": 35,
   "id": "c2fb6bb6",
   "metadata": {},
   "outputs": [],
   "source": [
    "X=ds[['TeamPoints','FieldGoals','X3PointShots','FreeThrows','TotalRebounds',\n",
    "      'Assists','Steals','Blocks','Opp.Turnovers','Opp.TotalFouls',]]"
   ]
  },
  {
   "cell_type": "code",
   "execution_count": 36,
   "id": "6d032fc2",
   "metadata": {},
   "outputs": [],
   "source": [
    "y=ds[['OpponentPoints']]"
   ]
  },
  {
   "cell_type": "code",
   "execution_count": 37,
   "id": "dbd627ea",
   "metadata": {},
   "outputs": [
    {
     "data": {
      "text/html": [
       "<div>\n",
       "<style scoped>\n",
       "    .dataframe tbody tr th:only-of-type {\n",
       "        vertical-align: middle;\n",
       "    }\n",
       "\n",
       "    .dataframe tbody tr th {\n",
       "        vertical-align: top;\n",
       "    }\n",
       "\n",
       "    .dataframe thead th {\n",
       "        text-align: right;\n",
       "    }\n",
       "</style>\n",
       "<table border=\"1\" class=\"dataframe\">\n",
       "  <thead>\n",
       "    <tr style=\"text-align: right;\">\n",
       "      <th></th>\n",
       "      <th>TeamPoints</th>\n",
       "      <th>FieldGoals</th>\n",
       "      <th>X3PointShots</th>\n",
       "      <th>FreeThrows</th>\n",
       "      <th>TotalRebounds</th>\n",
       "      <th>Assists</th>\n",
       "      <th>Steals</th>\n",
       "      <th>Blocks</th>\n",
       "      <th>Opp.Turnovers</th>\n",
       "      <th>Opp.TotalFouls</th>\n",
       "    </tr>\n",
       "  </thead>\n",
       "  <tbody>\n",
       "    <tr>\n",
       "      <th>0</th>\n",
       "      <td>102</td>\n",
       "      <td>40</td>\n",
       "      <td>13</td>\n",
       "      <td>9</td>\n",
       "      <td>42</td>\n",
       "      <td>26</td>\n",
       "      <td>6</td>\n",
       "      <td>8</td>\n",
       "      <td>9</td>\n",
       "      <td>22</td>\n",
       "    </tr>\n",
       "    <tr>\n",
       "      <th>1</th>\n",
       "      <td>102</td>\n",
       "      <td>35</td>\n",
       "      <td>7</td>\n",
       "      <td>25</td>\n",
       "      <td>37</td>\n",
       "      <td>26</td>\n",
       "      <td>10</td>\n",
       "      <td>6</td>\n",
       "      <td>18</td>\n",
       "      <td>26</td>\n",
       "    </tr>\n",
       "    <tr>\n",
       "      <th>2</th>\n",
       "      <td>92</td>\n",
       "      <td>38</td>\n",
       "      <td>8</td>\n",
       "      <td>8</td>\n",
       "      <td>37</td>\n",
       "      <td>26</td>\n",
       "      <td>14</td>\n",
       "      <td>5</td>\n",
       "      <td>19</td>\n",
       "      <td>15</td>\n",
       "    </tr>\n",
       "    <tr>\n",
       "      <th>3</th>\n",
       "      <td>119</td>\n",
       "      <td>43</td>\n",
       "      <td>13</td>\n",
       "      <td>20</td>\n",
       "      <td>38</td>\n",
       "      <td>28</td>\n",
       "      <td>8</td>\n",
       "      <td>3</td>\n",
       "      <td>19</td>\n",
       "      <td>30</td>\n",
       "    </tr>\n",
       "    <tr>\n",
       "      <th>4</th>\n",
       "      <td>103</td>\n",
       "      <td>33</td>\n",
       "      <td>9</td>\n",
       "      <td>28</td>\n",
       "      <td>41</td>\n",
       "      <td>18</td>\n",
       "      <td>10</td>\n",
       "      <td>5</td>\n",
       "      <td>15</td>\n",
       "      <td>29</td>\n",
       "    </tr>\n",
       "  </tbody>\n",
       "</table>\n",
       "</div>"
      ],
      "text/plain": [
       "   TeamPoints  FieldGoals  X3PointShots  FreeThrows  TotalRebounds  Assists  \\\n",
       "0         102          40            13           9             42       26   \n",
       "1         102          35             7          25             37       26   \n",
       "2          92          38             8           8             37       26   \n",
       "3         119          43            13          20             38       28   \n",
       "4         103          33             9          28             41       18   \n",
       "\n",
       "   Steals  Blocks  Opp.Turnovers  Opp.TotalFouls  \n",
       "0       6       8              9              22  \n",
       "1      10       6             18              26  \n",
       "2      14       5             19              15  \n",
       "3       8       3             19              30  \n",
       "4      10       5             15              29  "
      ]
     },
     "execution_count": 37,
     "metadata": {},
     "output_type": "execute_result"
    }
   ],
   "source": [
    "X.head()"
   ]
  },
  {
   "cell_type": "code",
   "execution_count": 38,
   "id": "2e679beb",
   "metadata": {},
   "outputs": [
    {
     "data": {
      "text/html": [
       "<div>\n",
       "<style scoped>\n",
       "    .dataframe tbody tr th:only-of-type {\n",
       "        vertical-align: middle;\n",
       "    }\n",
       "\n",
       "    .dataframe tbody tr th {\n",
       "        vertical-align: top;\n",
       "    }\n",
       "\n",
       "    .dataframe thead th {\n",
       "        text-align: right;\n",
       "    }\n",
       "</style>\n",
       "<table border=\"1\" class=\"dataframe\">\n",
       "  <thead>\n",
       "    <tr style=\"text-align: right;\">\n",
       "      <th></th>\n",
       "      <th>OpponentPoints</th>\n",
       "    </tr>\n",
       "  </thead>\n",
       "  <tbody>\n",
       "    <tr>\n",
       "      <th>0</th>\n",
       "      <td>109</td>\n",
       "    </tr>\n",
       "    <tr>\n",
       "      <th>1</th>\n",
       "      <td>92</td>\n",
       "    </tr>\n",
       "    <tr>\n",
       "      <th>2</th>\n",
       "      <td>94</td>\n",
       "    </tr>\n",
       "    <tr>\n",
       "      <th>3</th>\n",
       "      <td>122</td>\n",
       "    </tr>\n",
       "    <tr>\n",
       "      <th>4</th>\n",
       "      <td>96</td>\n",
       "    </tr>\n",
       "  </tbody>\n",
       "</table>\n",
       "</div>"
      ],
      "text/plain": [
       "   OpponentPoints\n",
       "0             109\n",
       "1              92\n",
       "2              94\n",
       "3             122\n",
       "4              96"
      ]
     },
     "execution_count": 38,
     "metadata": {},
     "output_type": "execute_result"
    }
   ],
   "source": [
    "y.head()"
   ]
  },
  {
   "cell_type": "markdown",
   "id": "d4c978b2",
   "metadata": {},
   "source": [
    "# Linear Regression"
   ]
  },
  {
   "cell_type": "code",
   "execution_count": 91,
   "id": "d28e75db",
   "metadata": {},
   "outputs": [],
   "source": [
    "X_train,X_test,y_train,y_test=train_test_split(X,y,test_size=.8,random_state=0)"
   ]
  },
  {
   "cell_type": "code",
   "execution_count": 92,
   "id": "054261ee",
   "metadata": {},
   "outputs": [
    {
     "data": {
      "text/plain": [
       "LinearRegression()"
      ]
     },
     "execution_count": 92,
     "metadata": {},
     "output_type": "execute_result"
    }
   ],
   "source": [
    "#training\n",
    "from sklearn.linear_model import LinearRegression\n",
    "regressor = LinearRegression()\n",
    "regressor.fit(X,y)"
   ]
  },
  {
   "cell_type": "code",
   "execution_count": 93,
   "id": "95c92e35",
   "metadata": {},
   "outputs": [],
   "source": [
    "#y_pred for predicting \n",
    "y_pred=regressor.predict(X_test)"
   ]
  },
  {
   "cell_type": "markdown",
   "id": "09497991",
   "metadata": {},
   "source": [
    "## LR 80/20 Prediction"
   ]
  },
  {
   "cell_type": "code",
   "execution_count": 94,
   "id": "02f5d903",
   "metadata": {},
   "outputs": [
    {
     "data": {
      "text/html": [
       "<div>\n",
       "<style scoped>\n",
       "    .dataframe tbody tr th:only-of-type {\n",
       "        vertical-align: middle;\n",
       "    }\n",
       "\n",
       "    .dataframe tbody tr th {\n",
       "        vertical-align: top;\n",
       "    }\n",
       "\n",
       "    .dataframe thead th {\n",
       "        text-align: right;\n",
       "    }\n",
       "</style>\n",
       "<table border=\"1\" class=\"dataframe\">\n",
       "  <thead>\n",
       "    <tr style=\"text-align: right;\">\n",
       "      <th></th>\n",
       "      <th>TeamPoints</th>\n",
       "      <th>FieldGoals</th>\n",
       "      <th>X3PointShots</th>\n",
       "      <th>FreeThrows</th>\n",
       "      <th>TotalRebounds</th>\n",
       "      <th>Assists</th>\n",
       "      <th>Steals</th>\n",
       "      <th>Blocks</th>\n",
       "      <th>Opp.Turnovers</th>\n",
       "      <th>Opp.TotalFouls</th>\n",
       "    </tr>\n",
       "  </thead>\n",
       "  <tbody>\n",
       "    <tr>\n",
       "      <th>0</th>\n",
       "      <td>102</td>\n",
       "      <td>40</td>\n",
       "      <td>13</td>\n",
       "      <td>9</td>\n",
       "      <td>42</td>\n",
       "      <td>26</td>\n",
       "      <td>6</td>\n",
       "      <td>8</td>\n",
       "      <td>9</td>\n",
       "      <td>22</td>\n",
       "    </tr>\n",
       "    <tr>\n",
       "      <th>1</th>\n",
       "      <td>102</td>\n",
       "      <td>35</td>\n",
       "      <td>7</td>\n",
       "      <td>25</td>\n",
       "      <td>37</td>\n",
       "      <td>26</td>\n",
       "      <td>10</td>\n",
       "      <td>6</td>\n",
       "      <td>18</td>\n",
       "      <td>26</td>\n",
       "    </tr>\n",
       "    <tr>\n",
       "      <th>2</th>\n",
       "      <td>92</td>\n",
       "      <td>38</td>\n",
       "      <td>8</td>\n",
       "      <td>8</td>\n",
       "      <td>37</td>\n",
       "      <td>26</td>\n",
       "      <td>14</td>\n",
       "      <td>5</td>\n",
       "      <td>19</td>\n",
       "      <td>15</td>\n",
       "    </tr>\n",
       "    <tr>\n",
       "      <th>3</th>\n",
       "      <td>119</td>\n",
       "      <td>43</td>\n",
       "      <td>13</td>\n",
       "      <td>20</td>\n",
       "      <td>38</td>\n",
       "      <td>28</td>\n",
       "      <td>8</td>\n",
       "      <td>3</td>\n",
       "      <td>19</td>\n",
       "      <td>30</td>\n",
       "    </tr>\n",
       "    <tr>\n",
       "      <th>4</th>\n",
       "      <td>103</td>\n",
       "      <td>33</td>\n",
       "      <td>9</td>\n",
       "      <td>28</td>\n",
       "      <td>41</td>\n",
       "      <td>18</td>\n",
       "      <td>10</td>\n",
       "      <td>5</td>\n",
       "      <td>15</td>\n",
       "      <td>29</td>\n",
       "    </tr>\n",
       "  </tbody>\n",
       "</table>\n",
       "</div>"
      ],
      "text/plain": [
       "   TeamPoints  FieldGoals  X3PointShots  FreeThrows  TotalRebounds  Assists  \\\n",
       "0         102          40            13           9             42       26   \n",
       "1         102          35             7          25             37       26   \n",
       "2          92          38             8           8             37       26   \n",
       "3         119          43            13          20             38       28   \n",
       "4         103          33             9          28             41       18   \n",
       "\n",
       "   Steals  Blocks  Opp.Turnovers  Opp.TotalFouls  \n",
       "0       6       8              9              22  \n",
       "1      10       6             18              26  \n",
       "2      14       5             19              15  \n",
       "3       8       3             19              30  \n",
       "4      10       5             15              29  "
      ]
     },
     "execution_count": 94,
     "metadata": {},
     "output_type": "execute_result"
    }
   ],
   "source": [
    "X.head()"
   ]
  },
  {
   "attachments": {
    "image-5.png": {
     "image/png": "[encoded data removed]"
    }
   },
   "cell_type": "markdown",
   "id": "78d419c1",
   "metadata": {},
   "source": [
    "![image-5.png](attachment:image-5.png)"
   ]
  },
  {
   "cell_type": "code",
   "execution_count": 95,
   "id": "202e9535",
   "metadata": {},
   "outputs": [
    {
     "data": {
      "text/plain": [
       "array([[88.1445249]])"
      ]
     },
     "execution_count": 95,
     "metadata": {},
     "output_type": "execute_result"
    }
   ],
   "source": [
    "#Opponents Points are not taking in the prediction data\n",
    "#Opponents points are only in the picture to get a quick comparison. W or L results are in validation dataset\n",
    "regressor.predict([[90,33,9,15,51,25,9,4,19,18]])"
   ]
  },
  {
   "cell_type": "code",
   "execution_count": 96,
   "id": "a3d9b48f",
   "metadata": {},
   "outputs": [
    {
     "data": {
      "text/plain": [
       "array([[103.1835874]])"
      ]
     },
     "execution_count": 96,
     "metadata": {},
     "output_type": "execute_result"
    }
   ],
   "source": [
    "regressor.predict([[109,40,10,19,44,23,13,5,18,24]])"
   ]
  },
  {
   "cell_type": "code",
   "execution_count": 97,
   "id": "506ea83a",
   "metadata": {},
   "outputs": [
    {
     "data": {
      "text/plain": [
       "array([[99.0898374]])"
      ]
     },
     "execution_count": 97,
     "metadata": {},
     "output_type": "execute_result"
    }
   ],
   "source": [
    "regressor.predict([[98,33,6,26,47,24,9,3,14,18]])"
   ]
  },
  {
   "cell_type": "code",
   "execution_count": 98,
   "id": "7bcb3d7f",
   "metadata": {},
   "outputs": [
    {
     "name": "stdout",
     "output_type": "stream",
     "text": [
      "R-Square 0.3032244947052479\n"
     ]
    }
   ],
   "source": [
    "from sklearn.metrics import r2_score\n",
    "print('R-Square',r2_score(y_test,y_pred))"
   ]
  },
  {
   "cell_type": "code",
   "execution_count": 99,
   "id": "e7c412ea",
   "metadata": {},
   "outputs": [
    {
     "name": "stdout",
     "output_type": "stream",
     "text": [
      "The Mean Square error is 10.200245285904998\n"
     ]
    }
   ],
   "source": [
    "from sklearn.metrics import mean_squared_error as msc\n",
    "from math import sqrt\n",
    "rms=sqrt(msc(y_test,y_pred))\n",
    "print('The Mean Square error is', rms)"
   ]
  },
  {
   "cell_type": "markdown",
   "id": "39a96b30",
   "metadata": {},
   "source": [
    "# DTR"
   ]
  },
  {
   "cell_type": "code",
   "execution_count": 100,
   "id": "5bae36a8",
   "metadata": {},
   "outputs": [
    {
     "data": {
      "text/plain": [
       "LinearRegression()"
      ]
     },
     "execution_count": 100,
     "metadata": {},
     "output_type": "execute_result"
    }
   ],
   "source": [
    "X_train, X_test, y_train, y_test = train_test_split(X, y, test_size = 0.8, random_state = 0)\n",
    "regressor = LinearRegression()\n",
    "regressor.fit(X,y)"
   ]
  },
  {
   "cell_type": "code",
   "execution_count": 101,
   "id": "5d87a737",
   "metadata": {},
   "outputs": [
    {
     "data": {
      "text/plain": [
       "DecisionTreeRegressor(random_state=0)"
      ]
     },
     "execution_count": 101,
     "metadata": {},
     "output_type": "execute_result"
    }
   ],
   "source": [
    "regressor=DecisionTreeRegressor(random_state=0)\n",
    "regressor.fit(X_train,y_train)"
   ]
  },
  {
   "cell_type": "code",
   "execution_count": 102,
   "id": "ba6f065f",
   "metadata": {},
   "outputs": [],
   "source": [
    "y_pred=regressor.predict(X_test)"
   ]
  },
  {
   "cell_type": "markdown",
   "id": "ac48b415",
   "metadata": {},
   "source": [
    "## DTR 80/20 Prediction"
   ]
  },
  {
   "cell_type": "code",
   "execution_count": 103,
   "id": "1922c575",
   "metadata": {},
   "outputs": [
    {
     "data": {
      "text/plain": [
       "array([95.])"
      ]
     },
     "execution_count": 103,
     "metadata": {},
     "output_type": "execute_result"
    }
   ],
   "source": [
    "regressor.predict([[90,33,9,15,51,25,9,4,19,18]])"
   ]
  },
  {
   "cell_type": "code",
   "execution_count": 104,
   "id": "cf1363e2",
   "metadata": {},
   "outputs": [
    {
     "data": {
      "text/plain": [
       "array([112.])"
      ]
     },
     "execution_count": 104,
     "metadata": {},
     "output_type": "execute_result"
    }
   ],
   "source": [
    "regressor.predict([[109,40,10,19,44,23,13,5,18,24]])"
   ]
  },
  {
   "cell_type": "code",
   "execution_count": 105,
   "id": "c2962fd9",
   "metadata": {},
   "outputs": [
    {
     "data": {
      "text/plain": [
       "array([106.])"
      ]
     },
     "execution_count": 105,
     "metadata": {},
     "output_type": "execute_result"
    }
   ],
   "source": [
    "regressor.predict([[98,33,6,26,47,24,9,3,14,18]])"
   ]
  },
  {
   "cell_type": "code",
   "execution_count": 106,
   "id": "8655d742",
   "metadata": {},
   "outputs": [
    {
     "name": "stdout",
     "output_type": "stream",
     "text": [
      "R-Square -0.45760550007941014\n"
     ]
    }
   ],
   "source": [
    "from sklearn.metrics import r2_score\n",
    "print('R-Square',r2_score(y_test,y_pred))"
   ]
  },
  {
   "cell_type": "code",
   "execution_count": 107,
   "id": "88e215ae",
   "metadata": {},
   "outputs": [
    {
     "name": "stdout",
     "output_type": "stream",
     "text": [
      "The Mean Square error is 14.753130265888538\n"
     ]
    }
   ],
   "source": [
    "from sklearn.metrics import mean_squared_error as msc\n",
    "from math import sqrt\n",
    "rms=sqrt(msc(y_test,y_pred))\n",
    "print('The Mean Square error is', rms)"
   ]
  },
  {
   "cell_type": "markdown",
   "id": "9cc3ca91",
   "metadata": {},
   "source": [
    "# Logistic Regression"
   ]
  },
  {
   "cell_type": "markdown",
   "id": "a01bd7e7",
   "metadata": {},
   "source": [
    "#### Below we are testing Logistic Regression only to see the predicitions due to its advantage in yes/no answers it probably will not be as effective with this type of data"
   ]
  },
  {
   "cell_type": "code",
   "execution_count": 75,
   "id": "dbc54ad4",
   "metadata": {},
   "outputs": [],
   "source": [
    "X_train, X_test, y_train, y_test = train_test_split(X, y, test_size=.2, random_state=0)"
   ]
  },
  {
   "cell_type": "code",
   "execution_count": 76,
   "id": "07beb626",
   "metadata": {},
   "outputs": [],
   "source": [
    "from sklearn.preprocessing import StandardScaler\n",
    "sc=StandardScaler()\n",
    "X_train=sc.fit_transform(X_train)\n",
    "X_test=sc.transform(X_test)"
   ]
  },
  {
   "cell_type": "code",
   "execution_count": 77,
   "id": "43af4f47",
   "metadata": {},
   "outputs": [
    {
     "name": "stderr",
     "output_type": "stream",
     "text": [
      "C:\\Users\\Connor\\anaconda3\\lib\\site-packages\\sklearn\\utils\\validation.py:63: DataConversionWarning: A column-vector y was passed when a 1d array was expected. Please change the shape of y to (n_samples, ), for example using ravel().\n",
      "  return f(*args, **kwargs)\n",
      "C:\\Users\\Connor\\anaconda3\\lib\\site-packages\\sklearn\\linear_model\\_logistic.py:763: ConvergenceWarning: lbfgs failed to converge (status=1):\n",
      "STOP: TOTAL NO. of ITERATIONS REACHED LIMIT.\n",
      "\n",
      "Increase the number of iterations (max_iter) or scale the data as shown in:\n",
      "    https://scikit-learn.org/stable/modules/preprocessing.html\n",
      "Please also refer to the documentation for alternative solver options:\n",
      "    https://scikit-learn.org/stable/modules/linear_model.html#logistic-regression\n",
      "  n_iter_i = _check_optimize_result(\n"
     ]
    },
    {
     "data": {
      "text/plain": [
       "LogisticRegression(random_state=0)"
      ]
     },
     "execution_count": 77,
     "metadata": {},
     "output_type": "execute_result"
    }
   ],
   "source": [
    "from sklearn.linear_model import LogisticRegression\n",
    "classifier=LogisticRegression(random_state=0)\n",
    "classifier.fit(X_train,y_train)"
   ]
  },
  {
   "cell_type": "markdown",
   "id": "75b7f770",
   "metadata": {},
   "source": [
    "## Logistic Regression 80/20 prediction"
   ]
  },
  {
   "cell_type": "code",
   "execution_count": 78,
   "id": "e7e46db7",
   "metadata": {},
   "outputs": [
    {
     "name": "stdout",
     "output_type": "stream",
     "text": [
      "[88]\n"
     ]
    }
   ],
   "source": [
    "print(classifier.predict(sc.transform([[90,33,9,15,51,25,9,4,19,18]])))"
   ]
  },
  {
   "cell_type": "code",
   "execution_count": 79,
   "id": "73b9e3e7",
   "metadata": {},
   "outputs": [
    {
     "name": "stdout",
     "output_type": "stream",
     "text": [
      "[101]\n"
     ]
    }
   ],
   "source": [
    "print(classifier.predict(sc.transform([[109,40,10,19,44,23,13,5,18,24]])))"
   ]
  },
  {
   "cell_type": "code",
   "execution_count": 80,
   "id": "092ec2f9",
   "metadata": {},
   "outputs": [
    {
     "name": "stdout",
     "output_type": "stream",
     "text": [
      "[100]\n"
     ]
    }
   ],
   "source": [
    "print(classifier.predict(sc.transform([[98,33,6,26,47,24,9,3,14,18]])))"
   ]
  },
  {
   "cell_type": "code",
   "execution_count": 90,
   "id": "51bd831d",
   "metadata": {},
   "outputs": [
    {
     "data": {
      "text/plain": [
       "0.033028455284552845"
      ]
     },
     "execution_count": 90,
     "metadata": {},
     "output_type": "execute_result"
    }
   ],
   "source": [
    "accuracy_score(y_test,y_pred)"
   ]
  },
  {
   "cell_type": "markdown",
   "id": "f006f108",
   "metadata": {},
   "source": [
    "# RFT"
   ]
  },
  {
   "cell_type": "code",
   "execution_count": 121,
   "id": "6fcd63b5",
   "metadata": {},
   "outputs": [
    {
     "name": "stderr",
     "output_type": "stream",
     "text": [
      "<ipython-input-121-40255d4da7b6>:3: DataConversionWarning: A column-vector y was passed when a 1d array was expected. Please change the shape of y to (n_samples,), for example using ravel().\n",
      "  regressor.fit(X,y)\n"
     ]
    },
    {
     "data": {
      "text/plain": [
       "RandomForestRegressor(n_estimators=20, random_state=0)"
      ]
     },
     "execution_count": 121,
     "metadata": {},
     "output_type": "execute_result"
    }
   ],
   "source": [
    "from sklearn.ensemble import RandomForestRegressor\n",
    "regressor=RandomForestRegressor(n_estimators=20,random_state=0)\n",
    "regressor.fit(X,y)"
   ]
  },
  {
   "cell_type": "code",
   "execution_count": 122,
   "id": "58896dee",
   "metadata": {},
   "outputs": [],
   "source": [
    "y_pred=regressor.predict(X_test)"
   ]
  },
  {
   "cell_type": "markdown",
   "id": "0f98657f",
   "metadata": {},
   "source": [
    "## RFT 80/20 Prediction"
   ]
  },
  {
   "cell_type": "code",
   "execution_count": 123,
   "id": "3aa5f2af",
   "metadata": {},
   "outputs": [
    {
     "data": {
      "text/plain": [
       "array([85.05])"
      ]
     },
     "execution_count": 123,
     "metadata": {},
     "output_type": "execute_result"
    }
   ],
   "source": [
    "regressor.predict([[90,33,9,15,51,25,9,4,19,18]])"
   ]
  },
  {
   "cell_type": "code",
   "execution_count": 124,
   "id": "fbc9afb3",
   "metadata": {},
   "outputs": [
    {
     "data": {
      "text/plain": [
       "array([101.35])"
      ]
     },
     "execution_count": 124,
     "metadata": {},
     "output_type": "execute_result"
    }
   ],
   "source": [
    "regressor.predict([[109,40,10,19,44,23,13,5,18,24]])"
   ]
  },
  {
   "cell_type": "code",
   "execution_count": 125,
   "id": "9c50c53d",
   "metadata": {},
   "outputs": [
    {
     "data": {
      "text/plain": [
       "array([93.85])"
      ]
     },
     "execution_count": 125,
     "metadata": {},
     "output_type": "execute_result"
    }
   ],
   "source": [
    "regressor.predict([[98,33,6,26,47,24,9,3,14,18]])"
   ]
  },
  {
   "cell_type": "code",
   "execution_count": 126,
   "id": "7392e2b4",
   "metadata": {},
   "outputs": [
    {
     "name": "stdout",
     "output_type": "stream",
     "text": [
      "R-Square 0.8819922662339343\n"
     ]
    }
   ],
   "source": [
    "from sklearn.metrics import r2_score\n",
    "print('R-Square',r2_score(y_test,y_pred))"
   ]
  },
  {
   "cell_type": "code",
   "execution_count": 127,
   "id": "b4b12a2b",
   "metadata": {},
   "outputs": [
    {
     "name": "stdout",
     "output_type": "stream",
     "text": [
      "The Mean Square error is 4.197777477064646\n"
     ]
    }
   ],
   "source": [
    "from sklearn.metrics import mean_squared_error as msc\n",
    "from math import sqrt\n",
    "rms=sqrt(msc(y_test,y_pred))\n",
    "print('The Mean Square error is', rms)"
   ]
  },
  {
   "cell_type": "markdown",
   "id": "0694624a",
   "metadata": {},
   "source": [
    "## Since we have completed all 80/20 Predictions for: Linear R, DTR, Logistic R, and RFT, we see that RFT is the best and Linear R is second best so we will continue with other split predictions with those two."
   ]
  },
  {
   "cell_type": "markdown",
   "id": "c9cb5373",
   "metadata": {},
   "source": [
    "## First: Linear Regression"
   ]
  },
  {
   "cell_type": "markdown",
   "id": "20982313",
   "metadata": {},
   "source": [
    "# 80 / 20"
   ]
  },
  {
   "cell_type": "code",
   "execution_count": 128,
   "id": "c9162992",
   "metadata": {},
   "outputs": [],
   "source": [
    "X_train,X_test,y_train,y_test=train_test_split(X,y,test_size=.8,random_state=20)"
   ]
  },
  {
   "cell_type": "code",
   "execution_count": 129,
   "id": "4adf7eb8",
   "metadata": {},
   "outputs": [
    {
     "data": {
      "text/plain": [
       "LinearRegression()"
      ]
     },
     "execution_count": 129,
     "metadata": {},
     "output_type": "execute_result"
    }
   ],
   "source": [
    "regressor=LinearRegression()\n",
    "regressor.fit(X_train,y_train)"
   ]
  },
  {
   "cell_type": "code",
   "execution_count": 130,
   "id": "2cc6784e",
   "metadata": {},
   "outputs": [
    {
     "data": {
      "text/plain": [
       "array([[87.49742759]])"
      ]
     },
     "execution_count": 130,
     "metadata": {},
     "output_type": "execute_result"
    }
   ],
   "source": [
    "regressor.predict([[90,33,9,15,51,25,9,4,19,18]])"
   ]
  },
  {
   "cell_type": "code",
   "execution_count": 131,
   "id": "2f2c25ef",
   "metadata": {},
   "outputs": [
    {
     "data": {
      "text/plain": [
       "array([[103.20836509]])"
      ]
     },
     "execution_count": 131,
     "metadata": {},
     "output_type": "execute_result"
    }
   ],
   "source": [
    "regressor.predict([[109,40,10,19,44,23,13,5,18,24]])"
   ]
  },
  {
   "cell_type": "code",
   "execution_count": 132,
   "id": "c316e5b0",
   "metadata": {},
   "outputs": [
    {
     "data": {
      "text/plain": [
       "array([[98.10680259]])"
      ]
     },
     "execution_count": 132,
     "metadata": {},
     "output_type": "execute_result"
    }
   ],
   "source": [
    "regressor.predict([[98,33,6,26,47,24,9,3,14,18]])"
   ]
  },
  {
   "cell_type": "markdown",
   "id": "2797b218",
   "metadata": {},
   "source": [
    "# 70/30"
   ]
  },
  {
   "cell_type": "code",
   "execution_count": 133,
   "id": "51876ab6",
   "metadata": {},
   "outputs": [],
   "source": [
    "X_train,X_test,y_train,y_test=train_test_split(X,y,test_size=.70,random_state=15)"
   ]
  },
  {
   "cell_type": "code",
   "execution_count": 134,
   "id": "c46fd9c9",
   "metadata": {},
   "outputs": [
    {
     "data": {
      "text/plain": [
       "LinearRegression()"
      ]
     },
     "execution_count": 134,
     "metadata": {},
     "output_type": "execute_result"
    }
   ],
   "source": [
    "regressor=LinearRegression()\n",
    "regressor.fit(X_train,y_train)"
   ]
  },
  {
   "cell_type": "code",
   "execution_count": 135,
   "id": "55181cda",
   "metadata": {},
   "outputs": [
    {
     "data": {
      "text/plain": [
       "array([[88.80556614]])"
      ]
     },
     "execution_count": 135,
     "metadata": {},
     "output_type": "execute_result"
    }
   ],
   "source": [
    "regressor.predict([[90,33,9,15,51,25,9,4,19,18]])"
   ]
  },
  {
   "cell_type": "code",
   "execution_count": 136,
   "id": "c296c861",
   "metadata": {},
   "outputs": [
    {
     "data": {
      "text/plain": [
       "array([[102.69033177]])"
      ]
     },
     "execution_count": 136,
     "metadata": {},
     "output_type": "execute_result"
    }
   ],
   "source": [
    "regressor.predict([[109,40,10,19,44,23,13,5,18,24]])"
   ]
  },
  {
   "cell_type": "code",
   "execution_count": 137,
   "id": "9a986d53",
   "metadata": {},
   "outputs": [
    {
     "data": {
      "text/plain": [
       "array([[99.42275364]])"
      ]
     },
     "execution_count": 137,
     "metadata": {},
     "output_type": "execute_result"
    }
   ],
   "source": [
    "regressor.predict([[98,33,6,26,47,24,9,3,14,18]])"
   ]
  },
  {
   "cell_type": "markdown",
   "id": "a3bdec35",
   "metadata": {},
   "source": [
    "# Square Root 70/30 Split"
   ]
  },
  {
   "cell_type": "code",
   "execution_count": 138,
   "id": "01e786ef",
   "metadata": {},
   "outputs": [],
   "source": [
    "X_train,X_test,y_train,y_test=train_test_split(X,y,test_size=.70,random_state=15)"
   ]
  },
  {
   "cell_type": "code",
   "execution_count": 139,
   "id": "78ee36bb",
   "metadata": {},
   "outputs": [
    {
     "data": {
      "text/plain": [
       "LinearRegression()"
      ]
     },
     "execution_count": 139,
     "metadata": {},
     "output_type": "execute_result"
    }
   ],
   "source": [
    "regressor=LinearRegression()\n",
    "regressor.fit(X_train,y_train)"
   ]
  },
  {
   "cell_type": "code",
   "execution_count": 142,
   "id": "d58db308",
   "metadata": {},
   "outputs": [
    {
     "data": {
      "text/plain": [
       "array([[9.42367052]])"
      ]
     },
     "execution_count": 142,
     "metadata": {},
     "output_type": "execute_result"
    }
   ],
   "source": [
    "np.sqrt(regressor.predict([[90,33,9,15,51,25,9,4,19,18]]))"
   ]
  },
  {
   "cell_type": "code",
   "execution_count": 143,
   "id": "ea0c9f9c",
   "metadata": {},
   "outputs": [
    {
     "data": {
      "text/plain": [
       "array([[10.13362382]])"
      ]
     },
     "execution_count": 143,
     "metadata": {},
     "output_type": "execute_result"
    }
   ],
   "source": [
    "np.sqrt(regressor.predict([[109,40,10,19,44,23,13,5,18,24]]))"
   ]
  },
  {
   "cell_type": "code",
   "execution_count": 144,
   "id": "c3b8728a",
   "metadata": {},
   "outputs": [
    {
     "data": {
      "text/plain": [
       "array([[9.97109591]])"
      ]
     },
     "execution_count": 144,
     "metadata": {},
     "output_type": "execute_result"
    }
   ],
   "source": [
    "np.sqrt(regressor.predict([[98,33,6,26,47,24,9,3,14,18]]))"
   ]
  },
  {
   "cell_type": "markdown",
   "id": "b73cfca2",
   "metadata": {},
   "source": [
    "# Square Root 80/20 Split"
   ]
  },
  {
   "cell_type": "code",
   "execution_count": 145,
   "id": "66b1d72a",
   "metadata": {},
   "outputs": [],
   "source": [
    "X_train,X_test,y_train,y_test=train_test_split(X,y,test_size=.8,random_state=20)"
   ]
  },
  {
   "cell_type": "code",
   "execution_count": 146,
   "id": "b430547d",
   "metadata": {},
   "outputs": [
    {
     "data": {
      "text/plain": [
       "LinearRegression()"
      ]
     },
     "execution_count": 146,
     "metadata": {},
     "output_type": "execute_result"
    }
   ],
   "source": [
    "regressor=LinearRegression()\n",
    "regressor.fit(X_train,y_train)"
   ]
  },
  {
   "cell_type": "code",
   "execution_count": 147,
   "id": "adcefd18",
   "metadata": {},
   "outputs": [
    {
     "data": {
      "text/plain": [
       "array([[9.35400596]])"
      ]
     },
     "execution_count": 147,
     "metadata": {},
     "output_type": "execute_result"
    }
   ],
   "source": [
    "np.sqrt(regressor.predict([[90,33,9,15,51,25,9,4,19,18]]))"
   ]
  },
  {
   "cell_type": "code",
   "execution_count": 148,
   "id": "27845654",
   "metadata": {},
   "outputs": [
    {
     "data": {
      "text/plain": [
       "array([[10.15915179]])"
      ]
     },
     "execution_count": 148,
     "metadata": {},
     "output_type": "execute_result"
    }
   ],
   "source": [
    "np.sqrt(regressor.predict([[109,40,10,19,44,23,13,5,18,24]]))"
   ]
  },
  {
   "cell_type": "code",
   "execution_count": 149,
   "id": "222b4291",
   "metadata": {},
   "outputs": [
    {
     "data": {
      "text/plain": [
       "array([[9.90488781]])"
      ]
     },
     "execution_count": 149,
     "metadata": {},
     "output_type": "execute_result"
    }
   ],
   "source": [
    "np.sqrt(regressor.predict([[98,33,6,26,47,24,9,3,14,18]]))"
   ]
  },
  {
   "cell_type": "markdown",
   "id": "89d7ea67",
   "metadata": {},
   "source": [
    "# Second: RFT"
   ]
  },
  {
   "cell_type": "markdown",
   "id": "65a69b35",
   "metadata": {},
   "source": [
    "# 80 / 20"
   ]
  },
  {
   "cell_type": "code",
   "execution_count": 150,
   "id": "fe09d315",
   "metadata": {},
   "outputs": [],
   "source": [
    "X_train, X_test, y_train, y_test = train_test_split(X, y, test_size = 0.8, random_state = 20)"
   ]
  },
  {
   "cell_type": "code",
   "execution_count": 151,
   "id": "3b3ef390",
   "metadata": {},
   "outputs": [
    {
     "name": "stderr",
     "output_type": "stream",
     "text": [
      "<ipython-input-151-93d3aab45076>:2: DataConversionWarning: A column-vector y was passed when a 1d array was expected. Please change the shape of y to (n_samples,), for example using ravel().\n",
      "  regressor.fit(X,y)\n"
     ]
    },
    {
     "data": {
      "text/plain": [
       "RandomForestRegressor(n_estimators=20, random_state=0)"
      ]
     },
     "execution_count": 151,
     "metadata": {},
     "output_type": "execute_result"
    }
   ],
   "source": [
    "regressor=RandomForestRegressor(n_estimators=20,random_state=0)\n",
    "regressor.fit(X,y)"
   ]
  },
  {
   "cell_type": "code",
   "execution_count": 153,
   "id": "4da71ce5",
   "metadata": {},
   "outputs": [],
   "source": [
    "y_pred=regressor.predict(X_test)"
   ]
  },
  {
   "cell_type": "code",
   "execution_count": 154,
   "id": "ef2bd3ee",
   "metadata": {},
   "outputs": [
    {
     "data": {
      "text/plain": [
       "array([85.05])"
      ]
     },
     "execution_count": 154,
     "metadata": {},
     "output_type": "execute_result"
    }
   ],
   "source": [
    "regressor.predict([[90,33,9,15,51,25,9,4,19,18]])"
   ]
  },
  {
   "cell_type": "code",
   "execution_count": 155,
   "id": "2e8b4f4a",
   "metadata": {},
   "outputs": [
    {
     "data": {
      "text/plain": [
       "array([101.35])"
      ]
     },
     "execution_count": 155,
     "metadata": {},
     "output_type": "execute_result"
    }
   ],
   "source": [
    "regressor.predict([[109,40,10,19,44,23,13,5,18,24]])"
   ]
  },
  {
   "cell_type": "code",
   "execution_count": 156,
   "id": "68b5f420",
   "metadata": {},
   "outputs": [
    {
     "data": {
      "text/plain": [
       "array([93.85])"
      ]
     },
     "execution_count": 156,
     "metadata": {},
     "output_type": "execute_result"
    }
   ],
   "source": [
    "regressor.predict([[98,33,6,26,47,24,9,3,14,18]])"
   ]
  },
  {
   "cell_type": "markdown",
   "id": "49d7f0bc",
   "metadata": {},
   "source": [
    "# 70/30"
   ]
  },
  {
   "cell_type": "code",
   "execution_count": 157,
   "id": "fc15be0d",
   "metadata": {},
   "outputs": [],
   "source": [
    "X_train, X_test, y_train, y_test = train_test_split(X, y, test_size = 0.7, random_state = 30)"
   ]
  },
  {
   "cell_type": "code",
   "execution_count": 158,
   "id": "b2c41336",
   "metadata": {},
   "outputs": [
    {
     "name": "stderr",
     "output_type": "stream",
     "text": [
      "<ipython-input-158-93d3aab45076>:2: DataConversionWarning: A column-vector y was passed when a 1d array was expected. Please change the shape of y to (n_samples,), for example using ravel().\n",
      "  regressor.fit(X,y)\n"
     ]
    },
    {
     "data": {
      "text/plain": [
       "RandomForestRegressor(n_estimators=20, random_state=0)"
      ]
     },
     "execution_count": 158,
     "metadata": {},
     "output_type": "execute_result"
    }
   ],
   "source": [
    "regressor=RandomForestRegressor(n_estimators=20,random_state=0)\n",
    "regressor.fit(X,y)"
   ]
  },
  {
   "cell_type": "code",
   "execution_count": 160,
   "id": "20762d6e",
   "metadata": {},
   "outputs": [],
   "source": [
    "y_pred=regressor.predict(X_test)"
   ]
  },
  {
   "cell_type": "code",
   "execution_count": 161,
   "id": "43ce1898",
   "metadata": {},
   "outputs": [
    {
     "data": {
      "text/plain": [
       "array([85.05])"
      ]
     },
     "execution_count": 161,
     "metadata": {},
     "output_type": "execute_result"
    }
   ],
   "source": [
    "regressor.predict([[90,33,9,15,51,25,9,4,19,18]])"
   ]
  },
  {
   "cell_type": "code",
   "execution_count": 162,
   "id": "c4faebaa",
   "metadata": {},
   "outputs": [
    {
     "data": {
      "text/plain": [
       "array([101.35])"
      ]
     },
     "execution_count": 162,
     "metadata": {},
     "output_type": "execute_result"
    }
   ],
   "source": [
    "regressor.predict([[109,40,10,19,44,23,13,5,18,24]])"
   ]
  },
  {
   "cell_type": "code",
   "execution_count": 163,
   "id": "4a190769",
   "metadata": {},
   "outputs": [
    {
     "data": {
      "text/plain": [
       "array([93.85])"
      ]
     },
     "execution_count": 163,
     "metadata": {},
     "output_type": "execute_result"
    }
   ],
   "source": [
    "regressor.predict([[98,33,6,26,47,24,9,3,14,18]])"
   ]
  },
  {
   "cell_type": "markdown",
   "id": "cea60ba3",
   "metadata": {},
   "source": [
    "# Square Root 70/30 Split"
   ]
  },
  {
   "cell_type": "code",
   "execution_count": 164,
   "id": "8412f9dd",
   "metadata": {},
   "outputs": [
    {
     "data": {
      "text/plain": [
       "array([9.22225569])"
      ]
     },
     "execution_count": 164,
     "metadata": {},
     "output_type": "execute_result"
    }
   ],
   "source": [
    "np.sqrt(regressor.predict([[90,33,9,15,51,25,9,4,19,18]]))"
   ]
  },
  {
   "cell_type": "code",
   "execution_count": 165,
   "id": "05281ce3",
   "metadata": {},
   "outputs": [
    {
     "data": {
      "text/plain": [
       "array([10.06727371])"
      ]
     },
     "execution_count": 165,
     "metadata": {},
     "output_type": "execute_result"
    }
   ],
   "source": [
    "np.sqrt(regressor.predict([[109,40,10,19,44,23,13,5,18,24]]))"
   ]
  },
  {
   "cell_type": "code",
   "execution_count": 166,
   "id": "a1dafba2",
   "metadata": {},
   "outputs": [
    {
     "data": {
      "text/plain": [
       "array([9.68762097])"
      ]
     },
     "execution_count": 166,
     "metadata": {},
     "output_type": "execute_result"
    }
   ],
   "source": [
    "np.sqrt(regressor.predict([[98,33,6,26,47,24,9,3,14,18]]))"
   ]
  },
  {
   "cell_type": "markdown",
   "id": "49346b81",
   "metadata": {},
   "source": [
    "# Square Root 80/20 Split"
   ]
  },
  {
   "cell_type": "code",
   "execution_count": 172,
   "id": "ca4dbbb5",
   "metadata": {},
   "outputs": [],
   "source": [
    "X_train,X_test,y_train,y_test=train_test_split(X,y,test_size=.8,random_state=20)"
   ]
  },
  {
   "cell_type": "code",
   "execution_count": 173,
   "id": "06f59f0b",
   "metadata": {},
   "outputs": [
    {
     "data": {
      "text/plain": [
       "LinearRegression()"
      ]
     },
     "execution_count": 173,
     "metadata": {},
     "output_type": "execute_result"
    }
   ],
   "source": [
    "regressor=LinearRegression()\n",
    "regressor.fit(X_train,y_train)"
   ]
  },
  {
   "cell_type": "code",
   "execution_count": 174,
   "id": "87464b11",
   "metadata": {},
   "outputs": [
    {
     "data": {
      "text/plain": [
       "array([[9.35400596]])"
      ]
     },
     "execution_count": 174,
     "metadata": {},
     "output_type": "execute_result"
    }
   ],
   "source": [
    "np.sqrt(regressor.predict([[90,33,9,15,51,25,9,4,19,18]]))"
   ]
  },
  {
   "cell_type": "code",
   "execution_count": 175,
   "id": "107f55c0",
   "metadata": {},
   "outputs": [
    {
     "data": {
      "text/plain": [
       "array([[10.15915179]])"
      ]
     },
     "execution_count": 175,
     "metadata": {},
     "output_type": "execute_result"
    }
   ],
   "source": [
    "np.sqrt(regressor.predict([[109,40,10,19,44,23,13,5,18,24]]))"
   ]
  },
  {
   "cell_type": "code",
   "execution_count": 176,
   "id": "98946b18",
   "metadata": {},
   "outputs": [
    {
     "data": {
      "text/plain": [
       "array([[9.90488781]])"
      ]
     },
     "execution_count": 176,
     "metadata": {},
     "output_type": "execute_result"
    }
   ],
   "source": [
    "np.sqrt(regressor.predict([[98,33,6,26,47,24,9,3,14,18]]))"
   ]
  },
  {
   "cell_type": "code",
   "execution_count": null,
   "id": "9733e989",
   "metadata": {},
   "outputs": [],
   "source": []
  }
 ],
 "metadata": {
  "kernelspec": {
   "display_name": "Python 3",
   "language": "python",
   "name": "python3"
  },
  "language_info": {
   "codemirror_mode": {
    "name": "ipython",
    "version": 3
   },
   "file_extension": ".py",
   "mimetype": "text/x-python",
   "name": "python",
   "nbconvert_exporter": "python",
   "pygments_lexer": "ipython3",
   "version": "3.8.8"
  }
 },
 "nbformat": 4,
 "nbformat_minor": 5
}
